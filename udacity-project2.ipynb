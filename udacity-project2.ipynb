{
  "cells": [
    {
      "cell_type": "code",
      "execution_count": 1,
      "metadata": {
        "gather": {
          "logged": 1701586794201
        }
      },
      "outputs": [
        {
          "data": {
            "application/vnd.livy.statement-meta+json": {
              "execution_finish_time": "2023-12-03T06:59:53.993869Z",
              "execution_start_time": "2023-12-03T06:59:44.8775468Z",
              "livy_statement_state": "available",
              "parent_msg_id": "957bd282-9b07-49dd-89c2-d10823e69cae",
              "queued_time": "2023-12-03T06:58:49.526703Z",
              "session_id": "1",
              "session_start_time": "2023-12-03T06:58:49.5606142Z",
              "spark_jobs": {
                "jobs": [],
                "limit": 20,
                "numbers": {
                  "FAILED": 0,
                  "RUNNING": 0,
                  "SUCCEEDED": 0,
                  "UNKNOWN": 0
                },
                "rule": "ALL_DESC"
              },
              "spark_pool": "2628a69b-5449-4bb9-8772-e25acb27216e",
              "state": "finished",
              "statement_id": 6
            },
            "text/plain": [
              "StatementMeta(2628a69b-5449-4bb9-8772-e25acb27216e, 1, 6, Finished, Available)"
            ]
          },
          "metadata": {},
          "output_type": "display_data"
        },
        {
          "name": "stdout",
          "output_type": "stream",
          "text": [
            "Workspace name: quick-starts-ws-244692\n",
            "Azure region: westeurope\n",
            "Subscription id: 510b94ba-e453-4417-988b-fbdc37b55ca7\n",
            "Resource group: aml-quickstarts-244692\n"
          ]
        }
      ],
      "source": [
        "from azureml.core import Workspace, Experiment\n",
        "\n",
        "ws = Workspace.from_config(path=\"Users/odl_user_244692/config.json\")\n",
        "exp = Experiment(workspace=ws, name=\"udacity-project\")\n",
        "\n",
        "print('Workspace name: ' + ws.name, \n",
        "      'Azure region: ' + ws.location, \n",
        "      'Subscription id: ' + ws.subscription_id, \n",
        "      'Resource group: ' + ws.resource_group, sep = '\\n')\n",
        "\n",
        "run = exp.start_logging()"
      ]
    },
    {
      "cell_type": "code",
      "execution_count": 2,
      "metadata": {
        "gather": {
          "logged": 1701586801882
        },
        "jupyter": {
          "outputs_hidden": false,
          "source_hidden": false
        },
        "nteract": {
          "transient": {
            "deleting": false
          }
        }
      },
      "outputs": [
        {
          "data": {
            "application/vnd.livy.statement-meta+json": {
              "execution_finish_time": "2023-12-03T07:00:01.6201191Z",
              "execution_start_time": "2023-12-03T07:00:00.4952148Z",
              "livy_statement_state": "available",
              "parent_msg_id": "a082aaec-1291-4bbb-89c7-6dbe344c2dac",
              "queued_time": "2023-12-03T07:00:00.3609071Z",
              "session_id": "1",
              "session_start_time": null,
              "spark_jobs": {
                "jobs": [],
                "limit": 20,
                "numbers": {
                  "FAILED": 0,
                  "RUNNING": 0,
                  "SUCCEEDED": 0,
                  "UNKNOWN": 0
                },
                "rule": "ALL_DESC"
              },
              "spark_pool": "2628a69b-5449-4bb9-8772-e25acb27216e",
              "state": "finished",
              "statement_id": 7
            },
            "text/plain": [
              "StatementMeta(2628a69b-5449-4bb9-8772-e25acb27216e, 1, 7, Finished, Available)"
            ]
          },
          "metadata": {},
          "output_type": "display_data"
        },
        {
          "name": "stdout",
          "output_type": "stream",
          "text": [
            "found existing cluster use it\n",
            "Succeeded\n",
            "AmlCompute wait for completion finished\n",
            "\n",
            "Minimum number of nodes requested have been provisioned\n",
            "{'currentNodeCount': 0, 'targetNodeCount': 0, 'nodeStateCounts': {'preparingNodeCount': 0, 'runningNodeCount': 0, 'idleNodeCount': 0, 'unusableNodeCount': 0, 'leavingNodeCount': 0, 'preemptedNodeCount': 0}, 'allocationState': 'Steady', 'allocationStateTransitionTime': '2023-12-03T06:10:48.036000+00:00', 'errors': None, 'creationTime': '2023-12-03T06:10:38.694813+00:00', 'modifiedTime': '2023-12-03T06:10:48.706503+00:00', 'provisioningState': 'Succeeded', 'provisioningStateTransitionTime': None, 'scaleSettings': {'minNodeCount': 0, 'maxNodeCount': 4, 'nodeIdleTimeBeforeScaleDown': 'PT1800S'}, 'vmPriority': 'Dedicated', 'vmSize': 'STANDARD_D2_V2'}\n"
          ]
        }
      ],
      "source": [
        "from azureml.core.compute import ComputeTarget, AmlCompute\n",
        "from azureml.core.compute_target import ComputeTargetException\n",
        "\n",
        "cluster_name = \"projectrubric\"\n",
        "\n",
        "# TODO: Create compute cluster\n",
        "# Use vm_size = \"Standard_D2_V2\" in your provisioning configuration.\n",
        "# max_nodes should be no greater than 4.\n",
        "\n",
        "### YOUR CODE HERE ###\n",
        "try:\n",
        "    compute_target = ComputeTarget(workspace=ws,name=cluster_name)\n",
        "    print(\"found existing cluster use it\")\n",
        "except ComputeTargetException:\n",
        "    print(\"creating a new compute\")\n",
        "    compute_config = AmlCompute.provisioning_configuration(vm_size=\"STANDARD_D2_V2\",min_Nodes=1,max_nodes=4)\n",
        "    compute_target = ComputeTarget.create(ws,cluster_name,compute_config)\n",
        "\n",
        "compute_target.wait_for_completion(show_output=True)\n",
        "print(compute_target.get_status().serialize())\n",
        "\n"
      ]
    },
    {
      "cell_type": "code",
      "execution_count": null,
      "metadata": {
        "jupyter": {
          "outputs_hidden": false,
          "source_hidden": false
        },
        "nteract": {
          "transient": {
            "deleting": false
          }
        }
      },
      "outputs": [],
      "source": [
        "%pip install"
      ]
    },
    {
      "cell_type": "code",
      "execution_count": 3,
      "metadata": {
        "jupyter": {
          "outputs_hidden": false,
          "source_hidden": false
        },
        "nteract": {
          "transient": {
            "deleting": false
          }
        }
      },
      "outputs": [
        {
          "data": {
            "application/vnd.livy.statement-meta+json": {
              "execution_finish_time": "2023-12-03T07:00:51.2084649Z",
              "execution_start_time": "2023-12-03T07:00:51.2082807Z",
              "livy_statement_state": "available",
              "parent_msg_id": "e021e0a3-3579-4918-8cbe-e762a9fa2fdd",
              "queued_time": "2023-12-03T07:00:16.5220076Z",
              "session_id": null,
              "session_start_time": null,
              "spark_jobs": null,
              "spark_pool": null,
              "state": "finished",
              "statement_id": -1
            },
            "text/plain": [
              "StatementMeta(, , -1, Finished, Available)"
            ]
          },
          "metadata": {},
          "output_type": "display_data"
        },
        {
          "data": {},
          "execution_count": 3,
          "metadata": {},
          "output_type": "execute_result"
        },
        {
          "name": "stdout",
          "output_type": "stream",
          "text": [
            "Collecting azureml-sdk\n",
            "  Using cached azureml_sdk-1.54.0-py3-none-any.whl (2.7 kB)\n",
            "Collecting azureml-dataset-runtime[fuse]~=1.54.0\n",
            "  Using cached azureml_dataset_runtime-1.54.0-py3-none-any.whl (2.3 kB)\n",
            "Collecting azureml-train-automl-client~=1.54.0\n",
            "  Using cached azureml_train_automl_client-1.54.0.post1-py3-none-any.whl (137 kB)\n",
            "Collecting azureml-core~=1.54.0\n",
            "  Using cached azureml_core-1.54.0-py3-none-any.whl (3.3 MB)\n",
            "Collecting azureml-pipeline~=1.54.0\n",
            "  Using cached azureml_pipeline-1.54.0-py3-none-any.whl (2.4 kB)\n",
            "Collecting azureml-train-core~=1.54.0\n",
            "  Using cached azureml_train_core-1.54.0-py3-none-any.whl (8.6 MB)\n",
            "Requirement already satisfied: adal<=1.2.7,>=1.2.0 in /home/trusted-service-user/cluster-env/env/lib/python3.8/site-packages (from azureml-core~=1.54.0->azureml-sdk) (1.2.7)\n",
            "Collecting azure-mgmt-network==25.1.0\n",
            "  Using cached azure_mgmt_network-25.1.0-py3-none-any.whl (656 kB)\n",
            "Requirement already satisfied: pathspec<1.0.0 in /home/trusted-service-user/cluster-env/env/lib/python3.8/site-packages (from azureml-core~=1.54.0->azureml-sdk) (0.8.1)\n",
            "Requirement already satisfied: msal-extensions<=1.0.0,>=0.3.0 in /home/trusted-service-user/cluster-env/env/lib/python3.8/site-packages (from azureml-core~=1.54.0->azureml-sdk) (0.3.0)\n",
            "Collecting knack<0.12.0\n",
            "  Using cached knack-0.11.0-py3-none-any.whl (60 kB)\n",
            "Requirement already satisfied: msrest<=0.7.1,>=0.5.1 in /home/trusted-service-user/cluster-env/env/lib/python3.8/site-packages (from azureml-core~=1.54.0->azureml-sdk) (0.6.21)\n",
            "Requirement already satisfied: ndg-httpsclient<=0.5.1 in /home/trusted-service-user/cluster-env/env/lib/python3.8/site-packages (from azureml-core~=1.54.0->azureml-sdk) (0.5.1)\n",
            "Requirement already satisfied: docker<7.0.0 in /home/trusted-service-user/cluster-env/env/lib/python3.8/site-packages (from azureml-core~=1.54.0->azureml-sdk) (4.4.4)\n",
            "Collecting azure-mgmt-resource<=24.0.0,>=15.0.0\n",
            "  Using cached azure_mgmt_resource-23.0.1-py3-none-any.whl (2.5 MB)\n",
            "Requirement already satisfied: jmespath<2.0.0 in /home/trusted-service-user/cluster-env/env/lib/python3.8/site-packages (from azureml-core~=1.54.0->azureml-sdk) (0.10.0)\n",
            "Collecting azure-mgmt-containerregistry<11,>=8.2.0\n",
            "  Using cached azure_mgmt_containerregistry-10.3.0-py3-none-any.whl (2.3 MB)\n",
            "Requirement already satisfied: azure-core<2.0.0 in /home/trusted-service-user/cluster-env/env/lib/python3.8/site-packages (from azureml-core~=1.54.0->azureml-sdk) (1.22.1)\n",
            "Requirement already satisfied: pyopenssl<24.0.0 in /home/trusted-service-user/cluster-env/env/lib/python3.8/site-packages (from azureml-core~=1.54.0->azureml-sdk) (20.0.1)\n",
            "Collecting humanfriendly<11.0,>=4.7\n",
            "  Using cached humanfriendly-10.0-py2.py3-none-any.whl (86 kB)\n",
            "Requirement already satisfied: jsonpickle<4.0.0 in /home/trusted-service-user/cluster-env/env/lib/python3.8/site-packages (from azureml-core~=1.54.0->azureml-sdk) (2.0.0)\n",
            "Collecting argcomplete<4\n",
            "  Using cached argcomplete-3.1.6-py3-none-any.whl (41 kB)\n",
            "Requirement already satisfied: backports.tempfile in /home/trusted-service-user/cluster-env/env/lib/python3.8/site-packages (from azureml-core~=1.54.0->azureml-sdk) (1.0)\n",
            "Collecting paramiko<4.0.0,>=2.0.8\n",
            "  Using cached paramiko-3.3.1-py3-none-any.whl (224 kB)\n",
            "Requirement already satisfied: pytz in /home/trusted-service-user/cluster-env/env/lib/python3.8/site-packages (from azureml-core~=1.54.0->azureml-sdk) (2021.1)\n",
            "Requirement already satisfied: azure-mgmt-keyvault<11.0.0,>=0.40.0 in /home/trusted-service-user/cluster-env/env/lib/python3.8/site-packages (from azureml-core~=1.54.0->azureml-sdk) (2.2.0)\n",
            "Requirement already satisfied: azure-mgmt-authorization<5,>=0.40.0 in /home/trusted-service-user/cluster-env/env/lib/python3.8/site-packages (from azureml-core~=1.54.0->azureml-sdk) (0.61.0)\n",
            "Collecting azure-mgmt-storage<=22.0.0,>=16.0.0\n",
            "  Using cached azure_mgmt_storage-21.1.0-py3-none-any.whl (3.0 MB)\n",
            "Requirement already satisfied: contextlib2<22.0.0 in /home/trusted-service-user/cluster-env/env/lib/python3.8/site-packages (from azureml-core~=1.54.0->azureml-sdk) (0.6.0.post1)\n",
            "Collecting pkginfo\n",
            "  Using cached pkginfo-1.9.6-py3-none-any.whl (30 kB)\n",
            "Requirement already satisfied: msrestazure<=0.6.4,>=0.4.33 in /home/trusted-service-user/cluster-env/env/lib/python3.8/site-packages (from azureml-core~=1.54.0->azureml-sdk) (0.6.4)\n",
            "Requirement already satisfied: SecretStorage<4.0.0 in /home/trusted-service-user/cluster-env/env/lib/python3.8/site-packages (from azureml-core~=1.54.0->azureml-sdk) (3.3.1)\n",
            "Requirement already satisfied: python-dateutil<3.0.0,>=2.7.3 in /home/trusted-service-user/cluster-env/env/lib/python3.8/site-packages (from azureml-core~=1.54.0->azureml-sdk) (2.8.1)\n",
            "Collecting urllib3<3.0.0,>1.26.17\n",
            "  Using cached urllib3-2.1.0-py3-none-any.whl (104 kB)\n",
            "Requirement already satisfied: PyJWT<3.0.0 in /home/trusted-service-user/cluster-env/env/lib/python3.8/site-packages (from azureml-core~=1.54.0->azureml-sdk) (2.1.0)\n",
            "Collecting msal<2.0.0,>=1.15.0\n",
            "  Using cached msal-1.25.0-py2.py3-none-any.whl (97 kB)\n",
            "Requirement already satisfied: packaging<=24.0,>=20.0 in /home/trusted-service-user/cluster-env/env/lib/python3.8/site-packages (from azureml-core~=1.54.0->azureml-sdk) (21.0)\n",
            "Requirement already satisfied: requests[socks]<3.0.0,>=2.19.1 in /home/trusted-service-user/cluster-env/env/lib/python3.8/site-packages (from azureml-core~=1.54.0->azureml-sdk) (2.25.1)\n",
            "Requirement already satisfied: azure-common<2.0.0,>=1.1.12 in /home/trusted-service-user/cluster-env/env/lib/python3.8/site-packages (from azureml-core~=1.54.0->azureml-sdk) (1.1.27)\n",
            "Requirement already satisfied: azure-graphrbac<1.0.0,>=0.40.0 in /home/trusted-service-user/cluster-env/env/lib/python3.8/site-packages (from azureml-core~=1.54.0->azureml-sdk) (0.61.1)\n",
            "Collecting isodate<1.0.0,>=0.6.1\n",
            "  Using cached isodate-0.6.1-py2.py3-none-any.whl (41 kB)\n",
            "Collecting azure-mgmt-core<2.0.0,>=1.3.2\n",
            "  Using cached azure_mgmt_core-1.4.0-py3-none-any.whl (27 kB)\n",
            "Requirement already satisfied: numpy!=1.19.3,<1.24 in /home/trusted-service-user/cluster-env/env/lib/python3.8/site-packages (from azureml-dataset-runtime[fuse]~=1.54.0->azureml-sdk) (1.19.4)\n",
            "Collecting azureml-dataprep<4.14.0a,>=4.12.0a\n",
            "  Using cached azureml_dataprep-4.12.7-py3-none-any.whl (38.2 MB)\n",
            "Requirement already satisfied: pyarrow<=11.0.0,>=0.17.0 in /home/trusted-service-user/cluster-env/env/lib/python3.8/site-packages (from azureml-dataset-runtime[fuse]~=1.54.0->azureml-sdk) (3.0.0)\n",
            "Requirement already satisfied: fusepy<4.0.0,>=3.0.1 in /home/trusted-service-user/cluster-env/env/lib/python3.8/site-packages (from azureml-dataset-runtime[fuse]~=1.54.0->azureml-sdk) (3.0.1)\n",
            "Collecting azureml-pipeline-steps~=1.54.0\n",
            "  Using cached azureml_pipeline_steps-1.54.0-py3-none-any.whl (69 kB)\n",
            "Collecting azureml-pipeline-core~=1.54.0\n",
            "  Using cached azureml_pipeline_core-1.54.0-py3-none-any.whl (313 kB)\n",
            "Collecting azureml-automl-core~=1.54.0\n",
            "  Using cached azureml_automl_core-1.54.0-py3-none-any.whl (248 kB)\n",
            "Collecting azureml-telemetry~=1.54.0\n",
            "  Using cached azureml_telemetry-1.54.0-py3-none-any.whl (30 kB)\n",
            "Collecting azureml-train-restclients-hyperdrive~=1.54.0\n",
            "  Using cached azureml_train_restclients_hyperdrive-1.54.0-py3-none-any.whl (18 kB)\n",
            "Requirement already satisfied: cryptography>=1.1.0 in /home/trusted-service-user/cluster-env/env/lib/python3.8/site-packages (from adal<=1.2.7,>=1.2.0->azureml-core~=1.54.0->azureml-sdk) (3.4.7)\n",
            "Requirement already satisfied: six>=1.11.0 in /home/trusted-service-user/cluster-env/env/lib/python3.8/site-packages (from azure-core<2.0.0->azureml-core~=1.54.0->azureml-sdk) (1.16.0)\n",
            "Collecting azure-identity>=1.7.0\n",
            "  Using cached azure_identity-1.15.0-py3-none-any.whl (164 kB)\n",
            "Collecting azureml-dataprep-rslex~=2.19.6dev0\n",
            "  Using cached azureml_dataprep_rslex-2.19.6-cp38-cp38-manylinux_2_17_x86_64.manylinux2014_x86_64.whl (23.5 MB)\n",
            "Requirement already satisfied: jsonschema in /home/trusted-service-user/cluster-env/env/lib/python3.8/site-packages (from azureml-dataprep<4.14.0a,>=4.12.0a->azureml-dataset-runtime[fuse]~=1.54.0->azureml-sdk) (4.15.0)\n",
            "Requirement already satisfied: cloudpickle<3.0.0,>=1.1.0 in /home/trusted-service-user/cluster-env/env/lib/python3.8/site-packages (from azureml-dataprep<4.14.0a,>=4.12.0a->azureml-dataset-runtime[fuse]~=1.54.0->azureml-sdk) (1.6.0)\n",
            "Collecting dotnetcore2<4.0.0,>=3.0.0\n",
            "  Using cached dotnetcore2-3.1.23-py3-none-manylinux1_x86_64.whl (31.1 MB)\n",
            "Requirement already satisfied: pyyaml<7.0.0,>=5.1.0 in /home/trusted-service-user/cluster-env/env/lib/python3.8/site-packages (from azureml-dataprep<4.14.0a,>=4.12.0a->azureml-dataset-runtime[fuse]~=1.54.0->azureml-sdk) (5.4.1)\n",
            "Requirement already satisfied: azureml-dataprep-native<39.0.0,>=38.0.0 in /home/trusted-service-user/cluster-env/env/lib/python3.8/site-packages (from azureml-dataprep<4.14.0a,>=4.12.0a->azureml-dataset-runtime[fuse]~=1.54.0->azureml-sdk) (38.0.0)\n",
            "Requirement already satisfied: applicationinsights in /home/trusted-service-user/cluster-env/env/lib/python3.8/site-packages (from azureml-telemetry~=1.54.0->azureml-train-automl-client~=1.54.0->azureml-sdk) (0.11.10)\n",
            "Requirement already satisfied: websocket-client>=0.32.0 in /home/trusted-service-user/cluster-env/env/lib/python3.8/site-packages (from docker<7.0.0->azureml-core~=1.54.0->azureml-sdk) (1.1.0)\n",
            "Requirement already satisfied: tabulate in /home/trusted-service-user/cluster-env/env/lib/python3.8/site-packages (from knack<0.12.0->azureml-core~=1.54.0->azureml-sdk) (0.8.9)\n",
            "Requirement already satisfied: pygments in /home/trusted-service-user/cluster-env/env/lib/python3.8/site-packages (from knack<0.12.0->azureml-core~=1.54.0->azureml-sdk) (2.9.0)\n",
            "Requirement already satisfied: portalocker~=1.0 in /home/trusted-service-user/cluster-env/env/lib/python3.8/site-packages (from msal-extensions<=1.0.0,>=0.3.0->azureml-core~=1.54.0->azureml-sdk) (1.7.1)\n",
            "Requirement already satisfied: certifi>=2017.4.17 in /home/trusted-service-user/cluster-env/env/lib/python3.8/site-packages (from msrest<=0.7.1,>=0.5.1->azureml-core~=1.54.0->azureml-sdk) (2021.5.30)\n",
            "Requirement already satisfied: requests-oauthlib>=0.5.0 in /home/trusted-service-user/cluster-env/env/lib/python3.8/site-packages (from msrest<=0.7.1,>=0.5.1->azureml-core~=1.54.0->azureml-sdk) (1.3.0)\n",
            "Requirement already satisfied: pyasn1>=0.1.1 in /home/trusted-service-user/cluster-env/env/lib/python3.8/site-packages (from ndg-httpsclient<=0.5.1->azureml-core~=1.54.0->azureml-sdk) (0.4.8)\n",
            "Requirement already satisfied: pyparsing>=2.0.2 in /home/trusted-service-user/cluster-env/env/lib/python3.8/site-packages (from packaging<=24.0,>=20.0->azureml-core~=1.54.0->azureml-sdk) (2.4.7)\n",
            "Collecting bcrypt>=3.2\n",
            "  Using cached bcrypt-4.1.1-cp37-abi3-manylinux_2_17_x86_64.manylinux2014_x86_64.whl (699 kB)\n",
            "Collecting pynacl>=1.5\n",
            "  Using cached PyNaCl-1.5.0-cp36-abi3-manylinux_2_17_x86_64.manylinux2014_x86_64.manylinux_2_24_x86_64.whl (856 kB)\n",
            "Requirement already satisfied: idna<3,>=2.5 in /home/trusted-service-user/cluster-env/env/lib/python3.8/site-packages (from requests[socks]<3.0.0,>=2.19.1->azureml-core~=1.54.0->azureml-sdk) (2.10)\n",
            "Requirement already satisfied: chardet<5,>=3.0.2 in /home/trusted-service-user/cluster-env/env/lib/python3.8/site-packages (from requests[socks]<3.0.0,>=2.19.1->azureml-core~=1.54.0->azureml-sdk) (4.0.0)\n",
            "Collecting urllib3<3.0.0,>1.26.17\n",
            "  Using cached urllib3-1.26.18-py2.py3-none-any.whl (143 kB)\n",
            "Requirement already satisfied: PySocks!=1.5.7,>=1.5.6 in /home/trusted-service-user/cluster-env/env/lib/python3.8/site-packages (from requests[socks]<3.0.0,>=2.19.1->azureml-core~=1.54.0->azureml-sdk) (1.7.1)\n",
            "Requirement already satisfied: jeepney>=0.6 in /home/trusted-service-user/cluster-env/env/lib/python3.8/site-packages (from SecretStorage<4.0.0->azureml-core~=1.54.0->azureml-sdk) (0.6.0)\n",
            "Requirement already satisfied: backports.weakref in /home/trusted-service-user/cluster-env/env/lib/python3.8/site-packages (from backports.tempfile->azureml-core~=1.54.0->azureml-sdk) (1.0.post1)\n",
            "Collecting azure-core<2.0.0\n",
            "  Using cached azure_core-1.29.5-py3-none-any.whl (192 kB)\n",
            "Collecting typing-extensions>=4.6.0\n",
            "  Using cached typing_extensions-4.8.0-py3-none-any.whl (31 kB)\n",
            "Requirement already satisfied: cffi>=1.12 in /home/trusted-service-user/cluster-env/env/lib/python3.8/site-packages (from cryptography>=1.1.0->adal<=1.2.7,>=1.2.0->azureml-core~=1.54.0->azureml-sdk) (1.14.5)\n",
            "Requirement already satisfied: distro>=1.2.0 in /home/trusted-service-user/cluster-env/env/lib/python3.8/site-packages (from dotnetcore2<4.0.0,>=3.0.0->azureml-dataprep<4.14.0a,>=4.12.0a->azureml-dataset-runtime[fuse]~=1.54.0->azureml-sdk) (1.7.0)\n",
            "Requirement already satisfied: oauthlib>=3.0.0 in /home/trusted-service-user/cluster-env/env/lib/python3.8/site-packages (from requests-oauthlib>=0.5.0->msrest<=0.7.1,>=0.5.1->azureml-core~=1.54.0->azureml-sdk) (3.1.1)\n",
            "Requirement already satisfied: attrs>=17.4.0 in /home/trusted-service-user/cluster-env/env/lib/python3.8/site-packages (from jsonschema->azureml-dataprep<4.14.0a,>=4.12.0a->azureml-dataset-runtime[fuse]~=1.54.0->azureml-sdk) (21.2.0)\n",
            "Requirement already satisfied: pyrsistent!=0.17.0,!=0.17.1,!=0.17.2,>=0.14.0 in /home/trusted-service-user/cluster-env/env/lib/python3.8/site-packages (from jsonschema->azureml-dataprep<4.14.0a,>=4.12.0a->azureml-dataset-runtime[fuse]~=1.54.0->azureml-sdk) (0.18.1)\n",
            "Requirement already satisfied: importlib-resources>=1.4.0 in /home/trusted-service-user/cluster-env/env/lib/python3.8/site-packages (from jsonschema->azureml-dataprep<4.14.0a,>=4.12.0a->azureml-dataset-runtime[fuse]~=1.54.0->azureml-sdk) (5.9.0)\n",
            "Requirement already satisfied: pkgutil-resolve-name>=1.3.10 in /home/trusted-service-user/cluster-env/env/lib/python3.8/site-packages (from jsonschema->azureml-dataprep<4.14.0a,>=4.12.0a->azureml-dataset-runtime[fuse]~=1.54.0->azureml-sdk) (1.3.10)\n",
            "Requirement already satisfied: pycparser in /home/trusted-service-user/cluster-env/env/lib/python3.8/site-packages (from cffi>=1.12->cryptography>=1.1.0->adal<=1.2.7,>=1.2.0->azureml-core~=1.54.0->azureml-sdk) (2.20)\n",
            "Requirement already satisfied: zipp>=3.1.0 in /home/trusted-service-user/cluster-env/env/lib/python3.8/site-packages (from importlib-resources>=1.4.0->jsonschema->azureml-dataprep<4.14.0a,>=4.12.0a->azureml-dataset-runtime[fuse]~=1.54.0->azureml-sdk) (3.5.0)\n",
            "Installing collected packages: azureml-dataprep-rslex, urllib3, typing-extensions, pkginfo, isodate, humanfriendly, dotnetcore2, bcrypt, argcomplete, pynacl, knack, paramiko, azure-core, msal, azure-mgmt-core, azure-mgmt-storage, azure-mgmt-resource, azure-mgmt-network, azure-mgmt-containerregistry, azureml-train-restclients-hyperdrive, azure-identity, azureml-dataprep, azureml-core, azureml-telemetry, azureml-pipeline-core, azureml-dataset-runtime, azureml-train-core, azureml-automl-core, azureml-train-automl-client, azureml-pipeline-steps, azureml-pipeline, azureml-sdk\n",
            "  Attempting uninstall: azureml-dataprep-rslex\n",
            "    Found existing installation: azureml-dataprep-rslex 1.20.2\n",
            "    Not uninstalling azureml-dataprep-rslex at /home/trusted-service-user/cluster-env/env/lib/python3.8/site-packages, outside environment /nfs4/pyenv-92045c4e-b685-4ab0-aaf4-00abb9d95cd4\n",
            "    Can't uninstall 'azureml-dataprep-rslex'. No files were found to uninstall.\n",
            "  Attempting uninstall: urllib3\n",
            "    Found existing installation: urllib3 1.26.4\n",
            "    Not uninstalling urllib3 at /home/trusted-service-user/cluster-env/env/lib/python3.8/site-packages, outside environment /nfs4/pyenv-92045c4e-b685-4ab0-aaf4-00abb9d95cd4\n",
            "    Can't uninstall 'urllib3'. No files were found to uninstall.\n",
            "  Attempting uninstall: typing-extensions\n",
            "    Found existing installation: typing-extensions 3.10.0.0\n",
            "    Not uninstalling typing-extensions at /home/trusted-service-user/cluster-env/env/lib/python3.8/site-packages, outside environment /nfs4/pyenv-92045c4e-b685-4ab0-aaf4-00abb9d95cd4\n",
            "    Can't uninstall 'typing-extensions'. No files were found to uninstall.\n",
            "  Attempting uninstall: isodate\n",
            "    Found existing installation: isodate 0.6.0\n",
            "    Not uninstalling isodate at /home/trusted-service-user/cluster-env/env/lib/python3.8/site-packages, outside environment /nfs4/pyenv-92045c4e-b685-4ab0-aaf4-00abb9d95cd4\n",
            "    Can't uninstall 'isodate'. No files were found to uninstall.\n",
            "  Attempting uninstall: dotnetcore2\n",
            "    Found existing installation: dotnetcore2 2.1.23\n",
            "    Not uninstalling dotnetcore2 at /home/trusted-service-user/cluster-env/env/lib/python3.8/site-packages, outside environment /nfs4/pyenv-92045c4e-b685-4ab0-aaf4-00abb9d95cd4\n",
            "    Can't uninstall 'dotnetcore2'. No files were found to uninstall.\n",
            "  Attempting uninstall: azure-core\n",
            "    Found existing installation: azure-core 1.22.1\n",
            "    Not uninstalling azure-core at /home/trusted-service-user/cluster-env/env/lib/python3.8/site-packages, outside environment /nfs4/pyenv-92045c4e-b685-4ab0-aaf4-00abb9d95cd4\n",
            "    Can't uninstall 'azure-core'. No files were found to uninstall.\n",
            "  Attempting uninstall: msal\n",
            "    Found existing installation: msal 1.12.0\n",
            "    Not uninstalling msal at /home/trusted-service-user/cluster-env/env/lib/python3.8/site-packages, outside environment /nfs4/pyenv-92045c4e-b685-4ab0-aaf4-00abb9d95cd4\n",
            "    Can't uninstall 'msal'. No files were found to uninstall.\n",
            "  Attempting uninstall: azure-mgmt-core\n",
            "    Found existing installation: azure-mgmt-core 1.3.0\n",
            "    Not uninstalling azure-mgmt-core at /home/trusted-service-user/cluster-env/env/lib/python3.8/site-packages, outside environment /nfs4/pyenv-92045c4e-b685-4ab0-aaf4-00abb9d95cd4\n",
            "    Can't uninstall 'azure-mgmt-core'. No files were found to uninstall.\n",
            "  Attempting uninstall: azure-mgmt-storage\n",
            "    Found existing installation: azure-mgmt-storage 11.2.0\n",
            "    Not uninstalling azure-mgmt-storage at /home/trusted-service-user/cluster-env/env/lib/python3.8/site-packages, outside environment /nfs4/pyenv-92045c4e-b685-4ab0-aaf4-00abb9d95cd4\n",
            "    Can't uninstall 'azure-mgmt-storage'. No files were found to uninstall.\n",
            "  Attempting uninstall: azure-mgmt-resource\n",
            "    Found existing installation: azure-mgmt-resource 13.0.0\n",
            "    Not uninstalling azure-mgmt-resource at /home/trusted-service-user/cluster-env/env/lib/python3.8/site-packages, outside environment /nfs4/pyenv-92045c4e-b685-4ab0-aaf4-00abb9d95cd4\n",
            "    Can't uninstall 'azure-mgmt-resource'. No files were found to uninstall.\n",
            "  Attempting uninstall: azure-mgmt-containerregistry\n",
            "    Found existing installation: azure-mgmt-containerregistry 8.0.0\n",
            "    Not uninstalling azure-mgmt-containerregistry at /home/trusted-service-user/cluster-env/env/lib/python3.8/site-packages, outside environment /nfs4/pyenv-92045c4e-b685-4ab0-aaf4-00abb9d95cd4\n",
            "    Can't uninstall 'azure-mgmt-containerregistry'. No files were found to uninstall.\n",
            "  Attempting uninstall: azure-identity\n",
            "    Found existing installation: azure-identity 1.5.0\n",
            "    Not uninstalling azure-identity at /home/trusted-service-user/cluster-env/env/lib/python3.8/site-packages, outside environment /nfs4/pyenv-92045c4e-b685-4ab0-aaf4-00abb9d95cd4\n",
            "    Can't uninstall 'azure-identity'. No files were found to uninstall.\n",
            "  Attempting uninstall: azureml-dataprep\n",
            "    Found existing installation: azureml-dataprep 2.22.2\n",
            "    Not uninstalling azureml-dataprep at /home/trusted-service-user/cluster-env/env/lib/python3.8/site-packages, outside environment /nfs4/pyenv-92045c4e-b685-4ab0-aaf4-00abb9d95cd4\n",
            "    Can't uninstall 'azureml-dataprep'. No files were found to uninstall.\n",
            "  Attempting uninstall: azureml-core\n",
            "    Found existing installation: azureml-core 1.34.0\n",
            "    Not uninstalling azureml-core at /home/trusted-service-user/cluster-env/env/lib/python3.8/site-packages, outside environment /nfs4/pyenv-92045c4e-b685-4ab0-aaf4-00abb9d95cd4\n",
            "    Can't uninstall 'azureml-core'. No files were found to uninstall.\n",
            "  Attempting uninstall: azureml-telemetry\n",
            "    Found existing installation: azureml-telemetry 1.34.0\n",
            "    Not uninstalling azureml-telemetry at /home/trusted-service-user/cluster-env/env/lib/python3.8/site-packages, outside environment /nfs4/pyenv-92045c4e-b685-4ab0-aaf4-00abb9d95cd4\n",
            "    Can't uninstall 'azureml-telemetry'. No files were found to uninstall.\n",
            "  Attempting uninstall: azureml-dataset-runtime\n",
            "    Found existing installation: azureml-dataset-runtime 1.34.0\n",
            "    Not uninstalling azureml-dataset-runtime at /home/trusted-service-user/cluster-env/env/lib/python3.8/site-packages, outside environment /nfs4/pyenv-92045c4e-b685-4ab0-aaf4-00abb9d95cd4\n",
            "    Can't uninstall 'azureml-dataset-runtime'. No files were found to uninstall.\n",
            "\u001b[31mERROR: pip's dependency resolver does not currently take into account all the packages that are installed. This behaviour is the source of the following dependency conflicts.\n",
            "tensorflow 2.4.1 requires six~=1.15.0, but you have six 1.16.0 which is incompatible.\n",
            "tensorflow 2.4.1 requires typing-extensions~=3.7.4, but you have typing-extensions 4.8.0 which is incompatible.\n",
            "azureml-opendatasets 1.34.0 requires azureml-core~=1.34.0, but you have azureml-core 1.54.0 which is incompatible.\n",
            "azureml-opendatasets 1.34.0 requires azureml-dataset-runtime[fuse,pandas]~=1.34.0, but you have azureml-dataset-runtime 1.54.0 which is incompatible.\n",
            "azureml-opendatasets 1.34.0 requires azureml-telemetry~=1.34.0, but you have azureml-telemetry 1.54.0 which is incompatible.\n",
            "azureml-mlflow 1.34.0 requires azureml-core~=1.34.0, but you have azureml-core 1.54.0 which is incompatible.\u001b[0m\u001b[31m\n",
            "\u001b[0mSuccessfully installed argcomplete-3.1.6 azure-core-1.29.5 azure-identity-1.15.0 azure-mgmt-containerregistry-10.3.0 azure-mgmt-core-1.4.0 azure-mgmt-network-25.1.0 azure-mgmt-resource-23.0.1 azure-mgmt-storage-21.1.0 azureml-automl-core-1.54.0 azureml-core-1.54.0 azureml-dataprep-4.12.7 azureml-dataprep-rslex-2.19.6 azureml-dataset-runtime-1.54.0 azureml-pipeline-1.54.0 azureml-pipeline-core-1.54.0 azureml-pipeline-steps-1.54.0 azureml-sdk-1.54.0 azureml-telemetry-1.54.0 azureml-train-automl-client-1.54.0.post1 azureml-train-core-1.54.0 azureml-train-restclients-hyperdrive-1.54.0 bcrypt-4.1.1 dotnetcore2-3.1.23 humanfriendly-10.0 isodate-0.6.1 knack-0.11.0 msal-1.25.0 paramiko-3.3.1 pkginfo-1.9.6 pynacl-1.5.0 typing-extensions-4.8.0 urllib3-1.26.18\n",
            "\u001b[33mWARNING: You are using pip version 22.0.4; however, version 23.3.1 is available.\n",
            "You should consider upgrading via the '/nfs4/pyenv-92045c4e-b685-4ab0-aaf4-00abb9d95cd4/bin/python -m pip install --upgrade pip' command.\u001b[0m\u001b[33m\n",
            "\u001b[0mNote: you may need to restart the kernel to use updated packages.\n"
          ]
        },
        {
          "data": {},
          "execution_count": 3,
          "metadata": {},
          "output_type": "execute_result"
        },
        {
          "name": "stdout",
          "output_type": "stream",
          "text": [
            "Warning: PySpark kernel has been restarted to use updated packages.\n",
            "\n"
          ]
        }
      ],
      "source": [
        "%pip install azureml-sdk "
      ]
    },
    {
      "cell_type": "code",
      "execution_count": 4,
      "metadata": {
        "gather": {
          "logged": 1701586874476
        },
        "jupyter": {
          "outputs_hidden": false,
          "source_hidden": false
        },
        "nteract": {
          "transient": {
            "deleting": false
          }
        }
      },
      "outputs": [
        {
          "data": {
            "application/vnd.livy.statement-meta+json": {
              "execution_finish_time": "2023-12-03T07:01:14.2707399Z",
              "execution_start_time": "2023-12-03T07:01:10.1389084Z",
              "livy_statement_state": "available",
              "parent_msg_id": "1f9fb9c4-d80e-4120-a080-8a62ca093578",
              "queued_time": "2023-12-03T07:01:00.3824591Z",
              "session_id": "1",
              "session_start_time": null,
              "spark_jobs": {
                "jobs": [],
                "limit": 20,
                "numbers": {
                  "FAILED": 0,
                  "RUNNING": 0,
                  "SUCCEEDED": 0,
                  "UNKNOWN": 0
                },
                "rule": "ALL_DESC"
              },
              "spark_pool": "2628a69b-5449-4bb9-8772-e25acb27216e",
              "state": "finished",
              "statement_id": 18
            },
            "text/plain": [
              "StatementMeta(2628a69b-5449-4bb9-8772-e25acb27216e, 1, 18, Finished, Available)"
            ]
          },
          "metadata": {},
          "output_type": "display_data"
        },
        {
          "name": "stdout",
          "output_type": "stream",
          "text": [
            "Failure while loading azureml_run_type_providers. Failed to load entrypoint hyperdrive = azureml.train.hyperdrive:HyperDriveRun._from_run_dto with exception partially initialized module 'azureml.train.hyperdrive' has no attribute 'HyperDriveRun' (most likely due to a circular import).\n",
            "Failure while loading azureml_run_type_providers. Failed to load entrypoint automl = azureml.train.automl.run:AutoMLRun._from_run_dto with exception cannot import name 'HyperParameterSampling' from partially initialized module 'azureml.train.hyperdrive' (most likely due to a circular import) (/nfs4/pyenv-92045c4e-b685-4ab0-aaf4-00abb9d95cd4/lib/python3.8/site-packages/azureml/train/hyperdrive/__init__.py).\n"
          ]
        },
        {
          "ename": "AttributeError",
          "evalue": "'str' object has no attribute 'docker'",
          "output_type": "error",
          "traceback": [
            "\u001b[0;31m---------------------------------------------------------------------------\u001b[0m",
            "\u001b[0;31mAttributeError\u001b[0m                            Traceback (most recent call last)",
            "\u001b[0;32m/tmp/ipykernel_27077/204037793.py\u001b[0m in \u001b[0;36m<module>\u001b[0;34m\u001b[0m\n\u001b[1;32m     30\u001b[0m \u001b[0;31m# Create a ScriptRunConfig Object to specify the configuration details of your training job\u001b[0m\u001b[0;34m\u001b[0m\u001b[0;34m\u001b[0m\u001b[0;34m\u001b[0m\u001b[0m\n\u001b[1;32m     31\u001b[0m  \u001b[0;31m### YOUR CODE HERE ###\u001b[0m\u001b[0;34m\u001b[0m\u001b[0;34m\u001b[0m\u001b[0;34m\u001b[0m\u001b[0m\n\u001b[0;32m---> 32\u001b[0;31m \u001b[0msrc\u001b[0m \u001b[0;34m=\u001b[0m \u001b[0mScriptRunConfig\u001b[0m\u001b[0;34m(\u001b[0m\u001b[0msource_directory\u001b[0m\u001b[0;34m=\u001b[0m\u001b[0;34m'.'\u001b[0m\u001b[0;34m,\u001b[0m\u001b[0mscript\u001b[0m\u001b[0;34m=\u001b[0m\u001b[0;34m'train.py'\u001b[0m\u001b[0;34m,\u001b[0m\u001b[0mcompute_target\u001b[0m\u001b[0;34m=\u001b[0m\u001b[0;34m'compute-target'\u001b[0m\u001b[0;34m,\u001b[0m\u001b[0menvironment\u001b[0m\u001b[0;34m=\u001b[0m\u001b[0;34m'sklearn_env'\u001b[0m\u001b[0;34m)\u001b[0m\u001b[0;34m\u001b[0m\u001b[0;34m\u001b[0m\u001b[0m\n\u001b[0m\u001b[1;32m     33\u001b[0m \u001b[0;34m\u001b[0m\u001b[0m\n\u001b[1;32m     34\u001b[0m \u001b[0;31m# Create a HyperDriveConfig using the src object, hyperparameter sampler, and policy.\u001b[0m\u001b[0;34m\u001b[0m\u001b[0;34m\u001b[0m\u001b[0;34m\u001b[0m\u001b[0m\n",
            "\u001b[0;32m/nfs4/pyenv-92045c4e-b685-4ab0-aaf4-00abb9d95cd4/lib/python3.8/site-packages/azureml/core/_experiment_method.py\u001b[0m in \u001b[0;36mwrapper\u001b[0;34m(self, *args, **kwargs)\u001b[0m\n\u001b[1;32m    102\u001b[0m             \"\"\"\n\u001b[1;32m    103\u001b[0m             \u001b[0mExperimentSubmitRegistrar\u001b[0m\u001b[0;34m.\u001b[0m\u001b[0mregister_submit_function\u001b[0m\u001b[0;34m(\u001b[0m\u001b[0mself\u001b[0m\u001b[0;34m.\u001b[0m\u001b[0m__class__\u001b[0m\u001b[0;34m,\u001b[0m \u001b[0msubmit_function\u001b[0m\u001b[0;34m)\u001b[0m\u001b[0;34m\u001b[0m\u001b[0;34m\u001b[0m\u001b[0m\n\u001b[0;32m--> 104\u001b[0;31m             \u001b[0;32mreturn\u001b[0m \u001b[0minit_func\u001b[0m\u001b[0;34m(\u001b[0m\u001b[0mself\u001b[0m\u001b[0;34m,\u001b[0m \u001b[0;34m*\u001b[0m\u001b[0margs\u001b[0m\u001b[0;34m,\u001b[0m \u001b[0;34m**\u001b[0m\u001b[0mkwargs\u001b[0m\u001b[0;34m)\u001b[0m\u001b[0;34m\u001b[0m\u001b[0;34m\u001b[0m\u001b[0m\n\u001b[0m\u001b[1;32m    105\u001b[0m         \u001b[0;32mreturn\u001b[0m \u001b[0mwrapper\u001b[0m\u001b[0;34m\u001b[0m\u001b[0;34m\u001b[0m\u001b[0m\n\u001b[1;32m    106\u001b[0m     \u001b[0;32mreturn\u001b[0m \u001b[0mreal_decorator\u001b[0m\u001b[0;34m\u001b[0m\u001b[0;34m\u001b[0m\u001b[0m\n",
            "\u001b[0;32m/nfs4/pyenv-92045c4e-b685-4ab0-aaf4-00abb9d95cd4/lib/python3.8/site-packages/azureml/core/script_run_config.py\u001b[0m in \u001b[0;36m__init__\u001b[0;34m(self, source_directory, script, arguments, run_config, _telemetry_values, compute_target, environment, distributed_job_config, resume_from, max_run_duration_seconds, command, docker_runtime_config)\u001b[0m\n\u001b[1;32m    436\u001b[0m                                                     \"object.\")\n\u001b[1;32m    437\u001b[0m                 \u001b[0mself\u001b[0m\u001b[0;34m.\u001b[0m\u001b[0mrun_config\u001b[0m\u001b[0;34m.\u001b[0m\u001b[0mdocker\u001b[0m \u001b[0;34m=\u001b[0m \u001b[0mdocker_runtime_config\u001b[0m\u001b[0;34m\u001b[0m\u001b[0;34m\u001b[0m\u001b[0m\n\u001b[0;32m--> 438\u001b[0;31m             \u001b[0;32melif\u001b[0m \u001b[0menvironment\u001b[0m \u001b[0;32mand\u001b[0m \u001b[0menvironment\u001b[0m\u001b[0;34m.\u001b[0m\u001b[0mdocker\u001b[0m\u001b[0;34m:\u001b[0m\u001b[0;34m\u001b[0m\u001b[0;34m\u001b[0m\u001b[0m\n\u001b[0m\u001b[1;32m    439\u001b[0m                 \u001b[0;31m# Docker configuration in run config is higher priority than docker settings\u001b[0m\u001b[0;34m\u001b[0m\u001b[0;34m\u001b[0m\u001b[0;34m\u001b[0m\u001b[0m\n\u001b[1;32m    440\u001b[0m                 \u001b[0;31m# in environment docker section, explicitly assign the setting values here\u001b[0m\u001b[0;34m\u001b[0m\u001b[0;34m\u001b[0m\u001b[0;34m\u001b[0m\u001b[0m\n",
            "\u001b[0;31mAttributeError\u001b[0m: 'str' object has no attribute 'docker'"
          ]
        }
      ],
      "source": [
        "#from azureml.widgets import RunDetails\n",
        "#from azureml.train.sklearn import SKLearn\n",
        "from azureml.train.hyperdrive.run import PrimaryMetricGoal\n",
        "from azureml.train.hyperdrive.policy import BanditPolicy\n",
        "from azureml.train.hyperdrive.sampling import RandomParameterSampling\n",
        "from azureml.train.hyperdrive.runconfig import HyperDriveConfig\n",
        "from azureml.train.hyperdrive.parameter_expressions import choice, uniform\n",
        "from azureml.core import Environment, ScriptRunConfig\n",
        "import os\n",
        "\n",
        "# Specify parameter sampler\n",
        "### YOUR CODE HERE ###\n",
        "ps = RandomParameterSampling(\n",
        "    {\n",
        "        '--C':choice(0.001,0.01,1,10,20,50,100,200,500,1000),\n",
        "        '--max_iter':choice(50,100,200,300)\n",
        "    }\n",
        ")\n",
        "\n",
        "# Specify a Policy\n",
        " ### YOUR CODE HERE ###\n",
        "policy = BanditPolicy(evaluation_interval=2,slack_factor=0.1)\n",
        "\n",
        "if \"training\" not in os.listdir():\n",
        "    os.mkdir(\"./training\")\n",
        "\n",
        "# Setup environment for your training run\n",
        "sklearn_env = Environment.from_conda_specification(name='sklearn-env', file_path='Users/odl_user_244692/conda_dependencies.yml')\n",
        "\n",
        "# Create a ScriptRunConfig Object to specify the configuration details of your training job\n",
        " ### YOUR CODE HERE ###\n",
        "src = ScriptRunConfig(source_directory='.',script='train.py',compute_target='compute-target',environment=sklearn_env)\n",
        "\n",
        "# Create a HyperDriveConfig using the src object, hyperparameter sampler, and policy.\n",
        " ### YOUR CODE HERE ###\n",
        "\n",
        "hyperdrive_config = HyperDriveConfig(run_config=src,hyperparameter_sampling=ps,policy=policy,primary_metric_name='accuracy',primary_metric_goal=PrimaryMetricGoal.MAXIMIZE,max_total_runs=20,max_concurrent_runs=4) "
      ]
    },
    {
      "cell_type": "code",
      "execution_count": null,
      "metadata": {},
      "outputs": [],
      "source": [
        "# Submit your hyperdrive run to the experiment and show run details with the widget.\n",
        "\n",
        "### YOUR CODE HERE ###\n",
        "run_hyp = exp.submit(hyperdrive_config)\n",
        "RunDetails(run_hyp).show()\n",
        "run_hyp.wait_for_completion(show_output=True)\n",
        "assert(hyperdrive_config.get_status()==\"Completed\")"
      ]
    },
    {
      "cell_type": "code",
      "execution_count": null,
      "metadata": {},
      "outputs": [],
      "source": [
        "import joblib"
      ]
    },
    {
      "cell_type": "code",
      "execution_count": null,
      "metadata": {
        "gather": {
          "logged": 1598276310862
        },
        "jupyter": {
          "outputs_hidden": false,
          "source_hidden": false
        },
        "nteract": {
          "transient": {
            "deleting": false
          }
        }
      },
      "outputs": [],
      "source": [
        "import joblib\n",
        "# Get your best run and save the model from that run.\n",
        "print(hyperdrive_config.get_children_sorted_by_primary_metric(top=0,reverse=False,discard_no_metric=False))\n",
        "best_run = hyperdrive_config.get_best_run_by_primary_metric()\n",
        "#get_metrics()\n",
        "#Returns the metric from all the runs that were launched by this HyperdriveRun.\n",
        "print(\"Best run metrics \" ,best_run.get_metrics())\n",
        "### YOUR CODE HERE ###\n",
        "#get_details()\n",
        "#Returns a dictionary with the details for the run\n",
        "print(\"Best run details :\",best_run.get_details())\n",
        "#get_file_names()\n",
        "#Returns a list of the files that are stored in association with the run.\n",
        "print(\"Best run file names :\",best_run.get_file_names())"
      ]
    },
    {
      "cell_type": "code",
      "execution_count": null,
      "metadata": {},
      "outputs": [],
      "source": [
        "from azureml.data.dataset_factory import TabularDatasetFactory\n",
        "\n",
        "# Create TabularDataset using TabularDatasetFactory\n",
        "# Data is available at: \n",
        "# \"https://automlsamplenotebookdata.blob.core.windows.net/automl-sample-notebook-data/bankmarketing_train.csv\"\n",
        "\n",
        "### YOUR CODE HERE ###\n",
        "ds = TabularDatasetFactory.from_delimited_files(['https://automlsamplenotebookdata.blob.core.windows.net/automl-sample-notebook-data/bankmarketing_train.csv'])"
      ]
    },
    {
      "cell_type": "code",
      "execution_count": null,
      "metadata": {
        "gather": {
          "logged": 1598275726969
        },
        "jupyter": {
          "outputs_hidden": false,
          "source_hidden": false
        },
        "nteract": {
          "transient": {
            "deleting": false
          }
        }
      },
      "outputs": [],
      "source": [
        "from train import clean_data\n",
        "\n",
        "# Use the clean_data function to clean your data.\n",
        "x, y = clean_data(ds)"
      ]
    },
    {
      "cell_type": "code",
      "execution_count": null,
      "metadata": {
        "gather": {
          "logged": 1598275665403
        },
        "jupyter": {
          "outputs_hidden": false,
          "source_hidden": false
        },
        "nteract": {
          "transient": {
            "deleting": false
          }
        }
      },
      "outputs": [],
      "source": [
        "from azureml.train.automl import AutoMLConfig\n",
        "\n",
        "# Set parameters for AutoMLConfig\n",
        "# NOTE: DO NOT CHANGE THE experiment_timeout_minutes PARAMETER OR YOUR INSTANCE WILL TIME OUT.\n",
        "# If you wish to run the experiment longer, you will need to run this notebook in your own\n",
        "# Azure tenant, which will incur personal costs.\n",
        "automl_config = AutoMLConfig(\n",
        "    experiment_timeout_minutes=30,\n",
        "    task='classification',\n",
        "    primary_metric='accuracy',\n",
        "    training_data=ds,\n",
        "    label_column_name=y,\n",
        "    n_cross_validations=2)"
      ]
    },
    {
      "cell_type": "code",
      "execution_count": 2,
      "metadata": {
        "jupyter": {
          "outputs_hidden": false,
          "source_hidden": false
        },
        "nteract": {
          "transient": {
            "deleting": false
          }
        }
      },
      "outputs": [],
      "source": [
        "# Submit your automl run\n",
        "\n",
        "### YOUR CODE HERE ###\n",
        "remote_run = exp.submit(automl_config,show_output=False)\n",
        "remote_run.wait_for_completion()"
      ]
    },
    {
      "cell_type": "code",
      "execution_count": null,
      "metadata": {},
      "outputs": [],
      "source": [
        "# Retrieve and save your best automl model.\n",
        "\n",
        "### YOUR CODE HERE ###\n",
        "best_run,fitted_model = remote_run.get_output()\n",
        "print(best_run)\n",
        "print(fitted_model)\n",
        "\n",
        "#get_metrics\n",
        "#Returns the metrics\n",
        "print(\"Best run metrics :\",best_run.get_metrics())\n",
        "#get_details()\n",
        "#Returns a dictionary with details for the run\n",
        "print(\"Best run details : \",best_run.get_details())"
      ]
    },
    {
      "cell_type": "code",
      "execution_count": null,
      "metadata": {},
      "outputs": [],
      "source": [
        "best_run.get_metrics()"
      ]
    },
    {
      "cell_type": "code",
      "execution_count": null,
      "metadata": {},
      "outputs": [],
      "source": [
        "fitted_model"
      ]
    },
    {
      "cell_type": "code",
      "execution_count": null,
      "metadata": {},
      "outputs": [],
      "source": [
        "best_run"
      ]
    },
    {
      "cell_type": "code",
      "execution_count": null,
      "metadata": {},
      "outputs": [],
      "source": [
        "compute_target.delete()"
      ]
    }
  ],
  "metadata": {
    "kernel_info": {
      "name": "synapse_pyspark"
    },
    "kernelspec": {
      "display_name": "Synapse PySpark",
      "language": "Python",
      "name": "synapse_pyspark"
    },
    "language_info": {
      "codemirror_mode": "ipython",
      "file_extension": ".py",
      "mimetype": "text/x-python",
      "name": "python",
      "nbconvert_exporter": "python",
      "pygments_lexer": "ipython",
      "version": "3.8.0"
    },
    "microsoft": {
      "ms_spell_check": {
        "ms_spell_check_language": "en"
      }
    },
    "nteract": {
      "version": "nteract-front-end@1.0.0"
    }
  },
  "nbformat": 4,
  "nbformat_minor": 2
}
